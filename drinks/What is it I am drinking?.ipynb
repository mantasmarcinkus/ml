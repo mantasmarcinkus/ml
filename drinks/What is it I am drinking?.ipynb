{
 "cells": [
  {
   "cell_type": "markdown",
   "metadata": {},
   "source": [
    "# A basic example\n",
    "**What is this drink? A Beer or a Wine?**  \n",
    "**Task**: Create a question answering system (a model) via training  \n",
    "**Goal**: Create an accurate model that answers our questions correctly most of the time."
   ]
  },
  {
   "cell_type": "code",
   "execution_count": null,
   "metadata": {},
   "outputs": [],
   "source": [
    "# We import libraries that we will use to help to create a model\n",
    "import matplotlib.pyplot as plt\n",
    "import pandas\n",
    "from sklearn import datasets, linear_model\n",
    "from sklearn.metrics import r2_score\n",
    "from sklearn.model_selection import cross_val_predict"
   ]
  },
  {
   "cell_type": "code",
   "execution_count": null,
   "metadata": {},
   "outputs": [],
   "source": [
    "# Defining a function to convert string value of a drink name to numerical value\n",
    "def drink(value):\n",
    "    if value == \"Beer\":\n",
    "        return 1\n",
    "    else:\n",
    "        return 0\n",
    "def determineDrink(value):\n",
    "    if value > 0.7:\n",
    "        return \"Beer\"\n",
    "    elif value < 0.3:\n",
    "        return \"Wine\"\n",
    "    else:\n",
    "        \"Not sure\""
   ]
  },
  {
   "cell_type": "markdown",
   "metadata": {},
   "source": [
    "Selecting the aspects (features) of data\n",
    "- the color (as rgb hex representation)\n",
    "- the alcohol content (as a percentage %)"
   ]
  },
  {
   "cell_type": "markdown",
   "metadata": {},
   "source": [
    "## First step\n",
    "![alt text](shop.jpg)"
   ]
  },
  {
   "cell_type": "markdown",
   "metadata": {},
   "source": [
    "## 1. Gathering the data\n",
    "The Quality and Quantity of the data will determine how good the predictive model can be\n"
   ]
  },
  {
   "cell_type": "code",
   "execution_count": null,
   "metadata": {},
   "outputs": [],
   "source": [
    "# Load dataset\n",
    "orig_dataframe = pandas.read_csv(\"beer-wine.csv\", header=None)\n",
    "display(orig_dataframe)"
   ]
  },
  {
   "cell_type": "markdown",
   "metadata": {},
   "source": [
    "## 2. Data Preparation\n",
    "Randomize data - the order of drinks should not affect the predictions"
   ]
  },
  {
   "cell_type": "code",
   "execution_count": null,
   "metadata": {},
   "outputs": [],
   "source": [
    "dataframe = orig_dataframe.sample(frac=1)"
   ]
  },
  {
   "cell_type": "markdown",
   "metadata": {},
   "source": [
    "It is good time to visualize data - check for correlations and imbalances"
   ]
  },
  {
   "cell_type": "code",
   "execution_count": null,
   "metadata": {},
   "outputs": [],
   "source": [
    "with plt.xkcd():\n",
    "    # Based on \"The Data So Far\" from XKCD by Randall Monroe\n",
    "    # http://xkcd.com/373/\n",
    "    fig = plt.figure()\n",
    "    ax = fig.add_axes((0.2, 0.2, 0.8, 0.7))\n",
    "    ax.bar([0, 0], [0, orig_dataframe[2].value_counts()[\"Beer\"]], 0.25)\n",
    "    ax.bar([0, 1], [0, orig_dataframe[2].value_counts()[\"Wine\"]], 0.25)\n",
    "    ax.bar([2, 2], [0, 50], 0.25)\n",
    "    ax.spines['right'].set_color('none')\n",
    "    ax.spines['top'].set_color('none')\n",
    "    ax.xaxis.set_ticks_position('bottom')\n",
    "    ax.set_xticks([0, 1, 2])\n",
    "    ax.set_xlim([-0.5, 3])\n",
    "    ax.set_ylim([0, 3])\n",
    "    ax.set_xticklabels(['BEER', 'WINE', \"ALL OTHER DRINKS\\nTO TRY\"])\n",
    "    plt.yticks([5,10,15,30])\n",
    "    plt.title(\"Drinks that we measuered\")\n",
    "    \n",
    "plt.show()"
   ]
  },
  {
   "cell_type": "markdown",
   "metadata": {},
   "source": [
    "Sometimes data adjusting and manipulation:\n",
    "- Normalization\n",
    "- Duplication\n",
    "- Error correction\n",
    "- etc.  \n",
    "\n",
    "In this case - converting string into numbers"
   ]
  },
  {
   "cell_type": "code",
   "execution_count": null,
   "metadata": {},
   "outputs": [],
   "source": [
    "dataframe[1] = dataframe[1].apply(lambda x: int(x, 16)) # Converts RGB hex code (#FF0000 to numerical value)\n",
    "dataframe[2] = dataframe[2].apply(lambda x: drink(x)) # Converts \"Beer\" to 1; \"Wine\" to 0"
   ]
  },
  {
   "cell_type": "code",
   "execution_count": null,
   "metadata": {},
   "outputs": [],
   "source": [
    "display(dataframe)"
   ]
  },
  {
   "cell_type": "markdown",
   "metadata": {},
   "source": [
    "Splitting data into two data sets:\n",
    "- ~70% for model training\n",
    "- ~30% for testing the model"
   ]
  },
  {
   "cell_type": "code",
   "execution_count": null,
   "metadata": {},
   "outputs": [],
   "source": [
    "# Split training data\n",
    "df_training = dataframe[:16]\n",
    "dataset = df_training.values\n",
    "# Split into input (X) and output (Y) variables\n",
    "train_X = dataset[:,0:2]\n",
    "train_Y = dataset[:,2]"
   ]
  },
  {
   "cell_type": "code",
   "execution_count": null,
   "metadata": {},
   "outputs": [],
   "source": [
    "# Split test data\n",
    "df_test = dataframe[16:20]\n",
    "dataset_test = df_test.values\n",
    "test_X = dataset_test[:,0:2]\n",
    "test_Y = dataset_test[:,2]"
   ]
  },
  {
   "cell_type": "markdown",
   "metadata": {},
   "source": [
    "## 3. Choosing a model\n",
    "Lots of models created over the years for different purposes:\n",
    "- Decision trees\n",
    "- Logistic regression\n",
    "- Neural networks\n",
    "- k-means\n",
    "- Linear regression\n",
    "- etc. etc. etc.  \n",
    "\n",
    "Linear regression is used to determine the extent to which there is a linear relationship between a dependent variable and one or more independent variables."
   ]
  },
  {
   "cell_type": "code",
   "execution_count": null,
   "metadata": {},
   "outputs": [],
   "source": [
    "model = linear_model.LinearRegression(copy_X=True, \n",
    "                                     fit_intercept=True,\n",
    "                                     n_jobs=5, \n",
    "                                     normalize=False) # because it is simple, only 2 features - gets the job done"
   ]
  },
  {
   "cell_type": "markdown",
   "metadata": {},
   "source": [
    "## 4. Training the model\n",
    "- Consumes most of the time in real ML projects\n",
    "- Bulk of ML process  \n",
    "\n",
    "Adjust weights of features to suggest a prediction\n"
   ]
  },
  {
   "cell_type": "code",
   "execution_count": null,
   "metadata": {},
   "outputs": [],
   "source": [
    "# Train model\n",
    "model.fit(train_X, train_Y)"
   ]
  },
  {
   "cell_type": "markdown",
   "metadata": {},
   "source": [
    "## 5. Model evaluation\n",
    "Testing the model with data that was set aside (30%) - to check how it will perform with unseen data."
   ]
  },
  {
   "cell_type": "code",
   "execution_count": null,
   "metadata": {},
   "outputs": [],
   "source": [
    "display(test_X)\n",
    "display(test_Y)"
   ]
  },
  {
   "cell_type": "code",
   "execution_count": null,
   "metadata": {},
   "outputs": [],
   "source": [
    "# Make predictions using the testing set\n",
    "y_pred = model.predict(test_X)\n",
    "\n",
    "print('Model prediction: %.2f' % r2_score(test_Y, y_pred)) # coefficient of determination (confidence)"
   ]
  },
  {
   "cell_type": "markdown",
   "metadata": {},
   "source": [
    "## 6. Parameter tuning\n",
    "Adjusting parameters might:\n",
    "- Increase (decrease) accuracy\n",
    "- Increase (decrease) model build time  \n",
    "\n",
    "You decide when the model is good enough!"
   ]
  },
  {
   "cell_type": "markdown",
   "metadata": {},
   "source": [
    "## 7. Prediction\n",
    "The power of machine learning is that we were able to determine how to differentiate between wine and beer using our model rather than using human judgement and manual rules."
   ]
  },
  {
   "cell_type": "code",
   "execution_count": null,
   "metadata": {},
   "outputs": [],
   "source": [
    "print('What drink is it? : ' + determineDrink(model.predict([[  float(11.5),   float(int(\"7F1500\", 16))]])))\n",
    "print('What drink is it? : ' + determineDrink(model.predict([[  float(5.3),   float(int(\"B58A00\", 16))]])))"
   ]
  },
  {
   "cell_type": "markdown",
   "metadata": {},
   "source": [
    "## 7 Steps of Machine learning process:\n",
    "- Gathering data\n",
    "- Preparing that data\n",
    "- Choosing a model\n",
    "- Training\n",
    "- Evaluation\n",
    "- Parameter tuning\n",
    "- Prediction\n",
    "\n"
   ]
  }
 ],
 "metadata": {
  "kernelspec": {
   "display_name": "Python 3",
   "language": "python",
   "name": "python3"
  },
  "language_info": {
   "codemirror_mode": {
    "name": "ipython",
    "version": 3
   },
   "file_extension": ".py",
   "mimetype": "text/x-python",
   "name": "python",
   "nbconvert_exporter": "python",
   "pygments_lexer": "ipython3",
   "version": "3.6.1"
  }
 },
 "nbformat": 4,
 "nbformat_minor": 2
}
